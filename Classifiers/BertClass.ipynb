{
  "nbformat": 4,
  "nbformat_minor": 0,
  "metadata": {
    "colab": {
      "provenance": [],
      "gpuType": "A100",
      "machine_shape": "hm"
    },
    "kernelspec": {
      "name": "python3",
      "display_name": "Python 3"
    },
    "language_info": {
      "name": "python"
    },
    "accelerator": "GPU"
  },
  "cells": [
    {
      "cell_type": "code",
      "source": [
        "!pip install datasets"
      ],
      "metadata": {
        "id": "HNyKkeAA3MTV"
      },
      "execution_count": null,
      "outputs": []
    },
    {
      "cell_type": "code",
      "source": [
        "from google.colab import drive\n",
        "drive.mount('/content/drive')"
      ],
      "metadata": {
        "colab": {
          "base_uri": "https://localhost:8080/"
        },
        "id": "qberV_IMkfOt",
        "outputId": "b1997a2d-158e-44ef-8374-29bc8b13d392"
      },
      "execution_count": null,
      "outputs": [
        {
          "output_type": "stream",
          "name": "stdout",
          "text": [
            "Mounted at /content/drive\n"
          ]
        }
      ]
    },
    {
      "cell_type": "code",
      "execution_count": null,
      "metadata": {
        "id": "9PeQPWtQ0VUr"
      },
      "outputs": [],
      "source": [
        "import torch\n",
        "from transformers import BertTokenizer, BertForSequenceClassification, Trainer, TrainingArguments\n",
        "from datasets import load_dataset, Dataset, DatasetDict\n",
        "from sklearn.metrics import accuracy_score, classification_report, f1_score, precision_score, recall_score\n",
        "import numpy as np\n",
        "import random\n",
        "import json"
      ]
    },
    {
      "cell_type": "code",
      "source": [
        "MODEL = \"neuralmind/bert-large-portuguese-cased\"\n",
        "BATCH_SIZE=35"
      ],
      "metadata": {
        "id": "LswVzjxT-46L"
      },
      "execution_count": null,
      "outputs": []
    },
    {
      "cell_type": "code",
      "source": [
        "MODEL = \"ricardoz/BERTugues-base-portuguese-cased\"\n",
        "BATCH_SIZE=100"
      ],
      "metadata": {
        "id": "T7FZ0QspDLnl"
      },
      "execution_count": null,
      "outputs": []
    },
    {
      "cell_type": "code",
      "source": [
        "MODEL = 'google-bert/bert-base-multilingual-cased'\n",
        "BATCH_SIZE=100"
      ],
      "metadata": {
        "id": "7CZ8R8mc24f4"
      },
      "execution_count": null,
      "outputs": []
    },
    {
      "cell_type": "code",
      "source": [
        "NUM_LABELS = 3"
      ],
      "metadata": {
        "id": "Ws7oybC8azGt"
      },
      "execution_count": null,
      "outputs": []
    },
    {
      "cell_type": "code",
      "source": [
        "TRAIN_ARTICLES_PATH = \"string\"\n",
        "TEST_ARTICLES_PATH = \"string\""
      ],
      "metadata": {
        "id": "JE9WTfL0b0o3"
      },
      "execution_count": null,
      "outputs": []
    },
    {
      "cell_type": "code",
      "source": [
        "def convert_to_huggingface_2_classes():\n",
        "    with open(TRAIN_ARTICLES_PATH, \"r\") as f:\n",
        "        train_data = json.load(f)\n",
        "    with open(TEST_ARTICLES_PATH, \"r\") as f2:\n",
        "        test_data = json.load(f2)\n",
        "\n",
        "    train_samples = []\n",
        "    for item in train_data:\n",
        "        train_samples.append({\"text\": item[\"text\"], \"label\": 1 if int(item[\"class_label\"]) == 2 else int(item['class_label'])})\n",
        "\n",
        "    test_samples = []\n",
        "    for item in test_data:\n",
        "        test_samples.append({\"text\": item[\"text\"], \"label\": 1 if int(item[\"class_label\"]) == 2 else int(item['class_label'])})\n",
        "\n",
        "    random.shuffle(train_samples)\n",
        "\n",
        "    split_index = int(len(train_samples) * 0.9)\n",
        "    train_split = train_samples[:split_index]\n",
        "    val_split = train_samples[split_index:]\n",
        "\n",
        "    train_dataset = Dataset.from_list(train_split)\n",
        "    val_dataset = Dataset.from_list(val_split)\n",
        "    test_dataset = Dataset.from_list(test_samples)\n",
        "\n",
        "    return DatasetDict({\n",
        "        \"train\": train_dataset,\n",
        "        \"validation\": val_dataset,\n",
        "        \"test\": test_dataset\n",
        "    })"
      ],
      "metadata": {
        "id": "HZV9wV0J9zbu"
      },
      "execution_count": null,
      "outputs": []
    },
    {
      "cell_type": "code",
      "source": [
        "def convert_to_huggingface():\n",
        "    with open(TRAIN_ARTICLES_PATH, \"r\") as f:\n",
        "        train_data = json.load(f)\n",
        "    with open(TEST_ARTICLES_PATH, \"r\") as f2:\n",
        "        test_data = json.load(f2)\n",
        "\n",
        "    train_samples = []\n",
        "    for item in train_data:\n",
        "        train_samples.append({\"text\": item[\"text\"], \"label\": int(item[\"class_label\"])})\n",
        "\n",
        "    test_samples = []\n",
        "    for item in test_data:\n",
        "        test_samples.append({\"text\": item[\"text\"], \"label\": int(item[\"class_label\"])})\n",
        "\n",
        "    random.shuffle(train_samples)\n",
        "\n",
        "    split_index = int(len(train_samples) * 0.9)\n",
        "    train_split = train_samples[:split_index]\n",
        "    val_split = train_samples[split_index:]\n",
        "\n",
        "    train_dataset = Dataset.from_list(train_split)\n",
        "    val_dataset = Dataset.from_list(val_split)\n",
        "    test_dataset = Dataset.from_list(test_samples)\n",
        "\n",
        "    return DatasetDict({\n",
        "        \"train\": train_dataset,\n",
        "        \"validation\": val_dataset,\n",
        "        \"test\": test_dataset\n",
        "    })"
      ],
      "metadata": {
        "id": "Vu5baXUC2vWN"
      },
      "execution_count": null,
      "outputs": []
    },
    {
      "cell_type": "code",
      "source": [
        "def compute_metrics(eval_pred):\n",
        "    logits, labels = eval_pred\n",
        "    predictions = np.argmax(logits, axis=-1)\n",
        "\n",
        "    # Calculate metrics\n",
        "    accuracy = accuracy_score(labels, predictions)\n",
        "    f1 = f1_score(labels, predictions, average=\"weighted\")\n",
        "    precision = precision_score(labels, predictions, average=\"weighted\")\n",
        "    recall = recall_score(labels, predictions, average=\"weighted\")\n",
        "\n",
        "    return {\n",
        "        \"accuracy\": accuracy,\n",
        "        \"f1\": f1,\n",
        "        \"precision\": precision,\n",
        "        \"recall\": recall\n",
        "    }"
      ],
      "metadata": {
        "id": "H5vqe9nmSq1j"
      },
      "execution_count": null,
      "outputs": []
    },
    {
      "cell_type": "code",
      "source": [
        "dataset = convert_to_huggingface()"
      ],
      "metadata": {
        "id": "7Oxf5e8Q3JE2"
      },
      "execution_count": null,
      "outputs": []
    },
    {
      "cell_type": "code",
      "source": [
        "print(len(dataset['train']))\n",
        "print(len(dataset['validation']))\n",
        "print(len(dataset['test']))"
      ],
      "metadata": {
        "id": "h6cPjeYf4Aae"
      },
      "execution_count": null,
      "outputs": []
    },
    {
      "cell_type": "code",
      "source": [
        "dataset = convert_to_huggingface_2_classes()"
      ],
      "metadata": {
        "id": "Vi79LbN94cCC"
      },
      "execution_count": null,
      "outputs": []
    },
    {
      "cell_type": "code",
      "source": [
        "tokenizer = BertTokenizer.from_pretrained(MODEL)\n",
        "\n",
        "def tokenize_function(examples):\n",
        "    return tokenizer(examples[\"text\"], padding=\"max_length\", truncation=True, max_length=512)\n",
        "\n",
        "tokenized_datasets = dataset.map(tokenize_function, batched=True)"
      ],
      "metadata": {
        "id": "P3frau4C1JDb"
      },
      "execution_count": null,
      "outputs": []
    },
    {
      "cell_type": "code",
      "source": [
        "from transformers import DataCollatorWithPadding\n",
        "\n",
        "data_collator = DataCollatorWithPadding(tokenizer=tokenizer, padding=\"max_length\", max_length=512)\n",
        "\n",
        "train_dataset = tokenized_datasets['train']\n",
        "eval_dataset = tokenized_datasets['validation']"
      ],
      "metadata": {
        "id": "hW8IEHiY1QZN"
      },
      "execution_count": null,
      "outputs": []
    },
    {
      "cell_type": "code",
      "source": [
        "model = BertForSequenceClassification.from_pretrained(MODEL, num_labels=NUM_LABELS)"
      ],
      "metadata": {
        "id": "w8FgM2s-1TSM"
      },
      "execution_count": null,
      "outputs": []
    },
    {
      "cell_type": "code",
      "source": [
        "training_args = TrainingArguments(\n",
        "    output_dir=\"./results\",\n",
        "    evaluation_strategy = \"epoch\",\n",
        "    save_strategy = \"epoch\",\n",
        "    learning_rate=2e-5,\n",
        "    per_device_train_batch_size=BATCH_SIZE,\n",
        "    num_train_epochs=5,\n",
        "    weight_decay=0.01,\n",
        "    report_to=\"wandb\",\n",
        "    logging_dir=\"./logs\",\n",
        "    logging_strategy=\"steps\",\n",
        "    logging_steps=100\n",
        ")\n",
        "\n",
        "trainer = Trainer(\n",
        "    model=model,\n",
        "    args=training_args,\n",
        "    train_dataset=train_dataset,\n",
        "    eval_dataset=eval_dataset,\n",
        "    data_collator=data_collator,\n",
        "    compute_metrics=compute_metrics\n",
        ")"
      ],
      "metadata": {
        "id": "X1inVsbx1YQE"
      },
      "execution_count": null,
      "outputs": []
    },
    {
      "cell_type": "code",
      "source": [
        "trainer.train()"
      ],
      "metadata": {
        "id": "Wqy_SFC41VBY"
      },
      "execution_count": null,
      "outputs": []
    },
    {
      "cell_type": "code",
      "source": [
        "# Zero-shot evaluation\n",
        "zeroShotTrainer = Trainer(\n",
        "  model=model,\n",
        "  eval_dataset=tokenized_datasets[\"test\"],\n",
        "  compute_metrics=compute_metrics\n",
        ")\n",
        "zero_shot_results = zeroShotTrainer.evaluate()\n",
        "print(f\"Zero-shot results for {MODEL}:\\n\")\n",
        "print(f'Accuracy: {zero_shot_results.get(\"eval_accuracy\") * 100:.1f}%')\n",
        "print(f'F1: {zero_shot_results.get(\"eval_f1\")* 100:.1f}%')\n",
        "print(f'Recall: {zero_shot_results.get(\"eval_recall\")* 100:.1f}%')\n",
        "print(f'Precision: {zero_shot_results.get(\"eval_precision\")* 100:.1f}%')"
      ],
      "metadata": {
        "id": "HN2ZurrnyqH3"
      },
      "execution_count": null,
      "outputs": []
    },
    {
      "cell_type": "code",
      "source": [
        "import time\n",
        "now = time.time()\n",
        "# Avaliar no conjunto de teste\n",
        "test_results = trainer.predict(tokenized_datasets[\"test\"])\n",
        "then = time.time()\n",
        "print(f\"Tempo de avaliação: {then - now} segundos\")\n",
        "\n",
        "# Extraindo as previsões e as métricas\n",
        "predictions = test_results.predictions\n",
        "metrics = test_results.metrics\n",
        "\n",
        "# Mostrando as métricas\n",
        "print(f\"Métricas de avaliação no conjunto de teste no {MODEL}:\\n\")\n",
        "print(f'Accuracy: {metrics.get(\"test_accuracy\") * 100:.1f}%')\n",
        "print(f'F1: {metrics.get(\"test_f1\")* 100:.1f}%')\n",
        "print(f'Recall: {metrics.get(\"test_recall\")* 100:.1f}%')\n",
        "print(f'Precision: {metrics.get(\"test_precision\")* 100:.1f}%')"
      ],
      "metadata": {
        "id": "Q67hxN0zCgu1"
      },
      "execution_count": null,
      "outputs": []
    },
    {
      "cell_type": "code",
      "source": [
        "#IGNORAR trainer.evaluate(tokenized_datasets[\"test\"])"
      ],
      "metadata": {
        "id": "jWn-7w9a6j49"
      },
      "execution_count": null,
      "outputs": []
    }
  ]
}